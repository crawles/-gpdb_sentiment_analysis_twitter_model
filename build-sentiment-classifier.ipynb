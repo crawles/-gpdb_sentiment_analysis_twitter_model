{
 "cells": [
  {
   "cell_type": "code",
   "execution_count": 3,
   "metadata": {
    "ExecuteTime": {
     "end_time": "2016-09-15T16:52:10.613211",
     "start_time": "2016-09-15T16:52:10.583483"
    },
    "collapsed": false
   },
   "outputs": [],
   "source": [
    "import cPickle\n",
    "\n",
    "from IPython.core.magic import (register_line_magic, register_cell_magic,\n",
    "                                register_line_cell_magic)\n",
    "from IPython.display import display\n",
    "from IPython.display import HTML\n",
    "\n",
    "import pandas as pd\n",
    "import pandas.io.sql as psql\n",
    "import psycopg2\n",
    "from sklearn.feature_extraction.text import CountVectorizer\n",
    "from sklearn.linear_model import LogisticRegression\n",
    "from sklearn.metrics import classification_report, roc_auc_score, roc_curve\n",
    "from sklearn.pipeline import Pipeline\n",
    "\n",
    "import params"
   ]
  },
  {
   "cell_type": "code",
   "execution_count": 4,
   "metadata": {
    "ExecuteTime": {
     "end_time": "2016-09-15T16:52:11.928734",
     "start_time": "2016-09-15T16:52:11.894403"
    },
    "collapsed": false
   },
   "outputs": [],
   "source": [
    "# connect to database\n",
    "conn = psycopg2.connect(database=params.database,\n",
    "                        host=params.host,\n",
    "                        port=params.port,\n",
    "                        user=params.username,\n",
    "                        password=params.password)\n",
    "\n",
    "conn.autocommit = True"
   ]
  },
  {
   "cell_type": "code",
   "execution_count": 5,
   "metadata": {
    "ExecuteTime": {
     "end_time": "2016-09-15T16:52:12.343466",
     "start_time": "2016-09-15T16:52:12.311246"
    },
    "collapsed": false
   },
   "outputs": [],
   "source": [
    "_df = None\n",
    "@register_cell_magic\n",
    "def showsql(line, cell):\n",
    "    \"\"\"\n",
    "        Extract the code in the specific cell (should be valid SQL), and execute\n",
    "        it using the connection object to the backend database. \n",
    "        The resulting Pandas dataframe\n",
    "        is rendered inline below the cell using IPython.display.\n",
    "        You'd use this for SELECT\n",
    "    \"\"\"\n",
    "    #Use the global connection object defined above.\n",
    "    global conn\n",
    "    global _df\n",
    "    _df = psql.read_sql(cell, conn)\n",
    "    conn.commit()\n",
    "    display(_df)\n",
    "    return\n",
    "    \n",
    "@register_cell_magic\n",
    "def execsql(line, cell):\n",
    "    \"\"\"\n",
    "        Extract the code in the specific cell (should be valid SQL), and execute\n",
    "        it using the connection object to the backend database. \n",
    "        You'd use this for CREATE/UPDATE/DELETE\n",
    "    \"\"\"\n",
    "    #Use the global connection object defined above.\n",
    "    global conn\n",
    "    global _df\n",
    "    _df = psql.execute(cell, conn)\n",
    "    conn.commit()\n",
    "    return\n",
    "\n",
    "# We delete these to avoid name conflicts for automagic to work\n",
    "del execsql, showsql"
   ]
  },
  {
   "cell_type": "markdown",
   "metadata": {},
   "source": [
    "## Build PL/Python function and model"
   ]
  },
  {
   "cell_type": "code",
   "execution_count": null,
   "metadata": {
    "ExecuteTime": {
     "start_time": "2016-09-15T20:37:28.216Z"
    },
    "collapsed": false
   },
   "outputs": [],
   "source": [
    "#%%execsql\n",
    "\n",
    "DROP FUNCTION IF EXISTS mdl.train_sentiment_model(tweets text[], polarities bigint[]);\n",
    "CREATE FUNCTION mdl.train_sentiment_model(tweets text[], polarities bigint[])\n",
    "RETURNS bytea AS $$\n",
    "import cPickle\n",
    "import re\n",
    "\n",
    "import pandas as pd\n",
    "from sklearn.feature_extraction.text import CountVectorizer\n",
    "from sklearn.linear_model import LogisticRegression\n",
    "from sklearn.pipeline import Pipeline\n",
    "\n",
    "def regex_preprocess(raw_tweets):\n",
    "    pp_text = pd.Series(raw_tweets)\n",
    "    \n",
    "    user_pat = '(?<=^|(?<=[^a-zA-Z0-9-_\\.]))@([A-Za-z]+[A-Za-z0-9]+)'\n",
    "    http_pat = '(https?:\\/\\/(?:www\\.|(?!www))[^\\s\\.]+\\.[^\\s]{2,}|www\\.[^\\s]+\\.[^\\s]{2,})'\n",
    "    repeat_pat, repeat_repl = \"(.)\\\\1\\\\1+\",'\\\\1\\\\1'\n",
    "\n",
    "    pp_text = pp_text.str.replace(pat = user_pat, repl = 'USERNAME')\n",
    "    pp_text = pp_text.str.replace(pat = http_pat, repl = 'URL')\n",
    "    pp_text.str.replace(pat = repeat_pat, repl = repeat_repl)\n",
    "    return pp_text\n",
    "    \n",
    "sentiment_lr = Pipeline([('count_vect', CountVectorizer(min_df = 100,\n",
    "                                                        ngram_range = (1,1),\n",
    "                                                        stop_words = 'english')), \n",
    "                         ('lr', LogisticRegression())])\n",
    "\n",
    "sentiment_lr.fit(regex_preprocess(tweets), polarities)\n",
    "return cPickle.dumps(sentiment_lr)\n",
    "$$ LANGUAGE plpythonu;\n",
    "\n",
    "DROP TABLE IF EXISTS mdl.sentiment_model;\n",
    "CREATE TABLE mdl.sentiment_model AS\n",
    "SELECT mdl.train_sentiment_model(array_agg(text),array_agg(polarity)) model\n",
    "FROM mdl.tweets_train;"
   ]
  },
  {
   "cell_type": "markdown",
   "metadata": {},
   "source": [
    "## Apply function to test set"
   ]
  },
  {
   "cell_type": "code",
   "execution_count": 8,
   "metadata": {
    "ExecuteTime": {
     "end_time": "2016-09-15T16:59:04.473427",
     "start_time": "2016-09-15T16:59:03.705191"
    },
    "collapsed": false
   },
   "outputs": [
    {
     "data": {
      "text/html": [
       "<div>\n",
       "<table border=\"1\" class=\"dataframe\">\n",
       "  <thead>\n",
       "    <tr style=\"text-align: right;\">\n",
       "      <th></th>\n",
       "      <th>tweets</th>\n",
       "      <th>apply_sentiment_model</th>\n",
       "    </tr>\n",
       "  </thead>\n",
       "  <tbody>\n",
       "    <tr>\n",
       "      <th>0</th>\n",
       "      <td>[@stellargirl I loooooooovvvvvveee my Kindle2....</td>\n",
       "      <td>[0.91207388443, 0.702055186043, 0.596401737918...</td>\n",
       "    </tr>\n",
       "  </tbody>\n",
       "</table>\n",
       "</div>"
      ],
      "text/plain": [
       "                                              tweets  \\\n",
       "0  [@stellargirl I loooooooovvvvvveee my Kindle2....   \n",
       "\n",
       "                               apply_sentiment_model  \n",
       "0  [0.91207388443, 0.702055186043, 0.596401737918...  "
      ]
     },
     "metadata": {},
     "output_type": "display_data"
    }
   ],
   "source": [
    "%%showsql\n",
    "SELECT *\n",
    "FROM mdl.sentiment_model;\n",
    "\n",
    "DROP FUNCTION IF EXISTS mdl.apply_sentiment_model(model bytea, tweets text[]);\n",
    "CREATE FUNCTION mdl.apply_sentiment_model(model bytea, tweets text[])\n",
    "RETURNS float8[] AS $$\n",
    "import cPickle\n",
    "import re\n",
    "\n",
    "import dill\n",
    "import pandas as pd\n",
    "from sklearn.feature_extraction.text import CountVectorizer\n",
    "from sklearn.linear_model import LogisticRegression\n",
    "from sklearn.pipeline import Pipeline\n",
    "\n",
    "def regex_preprocess(raw_tweets):\n",
    "    pp_text = pd.Series(raw_tweets)\n",
    "    \n",
    "    user_pat = '(?<=^|(?<=[^a-zA-Z0-9-_\\.]))@([A-Za-z]+[A-Za-z0-9]+)'\n",
    "    http_pat = '(https?:\\/\\/(?:www\\.|(?!www))[^\\s\\.]+\\.[^\\s]{2,}|www\\.[^\\s]+\\.[^\\s]{2,})'\n",
    "    repeat_pat, repeat_repl = \"(.)\\\\1\\\\1+\",'\\\\1\\\\1'\n",
    "\n",
    "    pp_text = pp_text.str.replace(pat = user_pat, repl = 'USERNAME')\n",
    "    pp_text = pp_text.str.replace(pat = http_pat, repl = 'URL')\n",
    "    pp_text.str.replace(pat = repeat_pat, repl = repeat_repl)\n",
    "    return pp_text\n",
    "\n",
    "cl = cPickle.loads(model)\n",
    "X = regex_preprocess(tweets)\n",
    "return cl.predict_proba(X)[:,1]\n",
    "$$ LANGUAGE plpythonu;\n",
    "\n",
    "SELECT tweets,mdl.apply_sentiment_model(model,tweets)\n",
    "FROM\n",
    "    mdl.sentiment_model,\n",
    "    (SELECT array_agg(text) tweets\n",
    "    FROM mdl.tweets_test\n",
    "    )f1;"
   ]
  },
  {
   "cell_type": "code",
   "execution_count": 15,
   "metadata": {
    "ExecuteTime": {
     "end_time": "2016-09-15T17:04:01.017715",
     "start_time": "2016-09-15T17:04:00.907402"
    },
    "collapsed": false
   },
   "outputs": [
    {
     "data": {
      "text/html": [
       "<div>\n",
       "<table border=\"1\" class=\"dataframe\">\n",
       "  <thead>\n",
       "    <tr style=\"text-align: right;\">\n",
       "      <th></th>\n",
       "      <th>apply_sentiment_model</th>\n",
       "    </tr>\n",
       "  </thead>\n",
       "  <tbody>\n",
       "    <tr>\n",
       "      <th>0</th>\n",
       "      <td>[0.823726450176, 0.514517859375, 0.826375947562]</td>\n",
       "    </tr>\n",
       "  </tbody>\n",
       "</table>\n",
       "</div>"
      ],
      "text/plain": [
       "                              apply_sentiment_model\n",
       "0  [0.823726450176, 0.514517859375, 0.826375947562]"
      ]
     },
     "metadata": {},
     "output_type": "display_data"
    }
   ],
   "source": [
    "%%showsql\n",
    "SELECT mdl.apply_sentiment_model(model,array['This app is awesome and in the CLOUD',\n",
    "                                             'steph curry is a basketball player',\n",
    "                                             'i am so mad and angry',\n",
    "                                             'hello world'])\n",
    "FROM mdl.sentiment_model"
   ]
  }
 ],
 "metadata": {
  "kernelspec": {
   "display_name": "Python 2",
   "language": "python",
   "name": "python2"
  },
  "language_info": {
   "codemirror_mode": {
    "name": "ipython",
    "version": 2
   },
   "file_extension": ".py",
   "mimetype": "text/x-python",
   "name": "python",
   "nbconvert_exporter": "python",
   "pygments_lexer": "ipython2",
   "version": "2.7.12"
  }
 },
 "nbformat": 4,
 "nbformat_minor": 0
}
