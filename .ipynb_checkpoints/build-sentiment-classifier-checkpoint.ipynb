{
 "cells": [
  {
   "cell_type": "markdown",
   "metadata": {},
   "source": [
    "This notebook implements an English-language tweet sentiment classifier based on the approach of [Go et al.](http://cs.stanford.edu/people/alecmgo/papers/TwitterDistantSupervision09.pdf) The accuracy on the test data containing positive and negative sentiment tweets is 80%. Training and test data was downloaded [here](http://help.sentiment140.com/for-students/)"
   ]
  },
  {
   "cell_type": "code",
   "execution_count": 48,
   "metadata": {
    "ExecuteTime": {
     "end_time": "2016-09-16T09:55:42.980391",
     "start_time": "2016-09-16T09:55:42.703406"
    },
    "collapsed": false
   },
   "outputs": [],
   "source": [
    "import cPickle\n",
    "\n",
    "from IPython.core.magic import (register_line_magic, register_cell_magic,\n",
    "                                register_line_cell_magic)\n",
    "from IPython.display import display\n",
    "from IPython.display import HTML\n",
    "import pandas as pd\n",
    "import pandas.io.sql as psql\n",
    "import psycopg2\n",
    "from sklearn.feature_extraction.text import CountVectorizer\n",
    "from sklearn.linear_model import LogisticRegression\n",
    "from sklearn.metrics import classification_report, roc_auc_score, roc_curve\n",
    "from sklearn.pipeline import Pipeline\n",
    "\n",
    "import params"
   ]
  },
  {
   "cell_type": "code",
   "execution_count": 49,
   "metadata": {
    "ExecuteTime": {
     "end_time": "2016-09-16T09:55:43.033269",
     "start_time": "2016-09-16T09:55:42.982300"
    },
    "collapsed": false
   },
   "outputs": [],
   "source": [
    "# connect to database\n",
    "conn = psycopg2.connect(database=params.database,\n",
    "                        host=params.host,\n",
    "                        port=params.port,\n",
    "                        user=params.username,\n",
    "                        password=params.password)\n",
    "\n",
    "conn.autocommit = True"
   ]
  },
  {
   "cell_type": "code",
   "execution_count": 5,
   "metadata": {
    "ExecuteTime": {
     "end_time": "2016-09-15T16:52:12.343466",
     "start_time": "2016-09-15T16:52:12.311246"
    },
    "collapsed": false
   },
   "outputs": [],
   "source": [
    "# magic functions to aid interaction with PostgresSQL/GPDB/HAWQ\n",
    "_df = None\n",
    "@register_cell_magic\n",
    "def showsql(line, cell):\n",
    "    \"\"\"\n",
    "        Extract the code in the specific cell (should be valid SQL), and execute\n",
    "        it using the connection object to the backend database. \n",
    "        The resulting Pandas dataframe\n",
    "        is rendered inline below the cell using IPython.display.\n",
    "        You'd use this for SELECT\n",
    "    \"\"\"\n",
    "    #Use the global connection object defined above.\n",
    "    global conn\n",
    "    global _df\n",
    "    _df = psql.read_sql(cell, conn)\n",
    "    conn.commit()\n",
    "    display(_df)\n",
    "    return\n",
    "    \n",
    "@register_cell_magic\n",
    "def execsql(line, cell):\n",
    "    \"\"\"\n",
    "        Extract the code in the specific cell (should be valid SQL), and execute\n",
    "        it using the connection object to the backend database. \n",
    "        You'd use this for CREATE/UPDATE/DELETE\n",
    "    \"\"\"\n",
    "    #Use the global connection object defined above.\n",
    "    global conn\n",
    "    global _df\n",
    "    _df = psql.execute(cell, conn)\n",
    "    conn.commit()\n",
    "    return\n",
    "\n",
    "# We delete these to avoid name conflicts for automagic to work\n",
    "del execsql, showsql"
   ]
  },
  {
   "cell_type": "markdown",
   "metadata": {},
   "source": [
    "## Build PL/Python function and model"
   ]
  },
  {
   "cell_type": "code",
   "execution_count": null,
   "metadata": {
    "ExecuteTime": {
     "start_time": "2016-09-15T20:37:28.216Z"
    },
    "collapsed": false
   },
   "outputs": [],
   "source": [
    "%%execsql\n",
    "\n",
    "DROP FUNCTION IF EXISTS mdl.train_sentiment_model(tweets text[], polarities bigint[]);\n",
    "CREATE FUNCTION mdl.train_sentiment_model(tweets text[], polarities bigint[])\n",
    "RETURNS bytea AS $$\n",
    "import cPickle\n",
    "import re\n",
    "\n",
    "import pandas as pd\n",
    "from sklearn.feature_extraction.text import CountVectorizer\n",
    "from sklearn.linear_model import LogisticRegression\n",
    "from sklearn.pipeline import Pipeline\n",
    "\n",
    "def regex_preprocess(raw_tweets):\n",
    "    pp_text = pd.Series(raw_tweets)\n",
    "    \n",
    "    user_pat = '(?<=^|(?<=[^a-zA-Z0-9-_\\.]))@([A-Za-z]+[A-Za-z0-9]+)'\n",
    "    http_pat = '(https?:\\/\\/(?:www\\.|(?!www))[^\\s\\.]+\\.[^\\s]{2,}|www\\.[^\\s]+\\.[^\\s]{2,})'\n",
    "    repeat_pat, repeat_repl = \"(.)\\\\1\\\\1+\",'\\\\1\\\\1'\n",
    "\n",
    "    pp_text = pp_text.str.replace(pat = user_pat, repl = 'USERNAME')\n",
    "    pp_text = pp_text.str.replace(pat = http_pat, repl = 'URL')\n",
    "    pp_text.str.replace(pat = repeat_pat, repl = repeat_repl)\n",
    "    return pp_text\n",
    "    \n",
    "sentiment_lr = Pipeline([('count_vect', CountVectorizer(min_df = 100,\n",
    "                                                        ngram_range = (1,1),\n",
    "                                                        stop_words = 'english')), \n",
    "                         ('lr', LogisticRegression())])\n",
    "\n",
    "sentiment_lr.fit(regex_preprocess(tweets), polarities)\n",
    "return cPickle.dumps(sentiment_lr)\n",
    "$$ LANGUAGE plpythonu;\n",
    "\n",
    "DROP TABLE IF EXISTS mdl.sentiment_model;\n",
    "CREATE TABLE mdl.sentiment_model AS\n",
    "SELECT mdl.train_sentiment_model(array_agg(text),array_agg(polarity)) model\n",
    "FROM mdl.tweets_train;"
   ]
  },
  {
   "cell_type": "markdown",
   "metadata": {},
   "source": [
    "## Apply function to test set"
   ]
  },
  {
   "cell_type": "code",
   "execution_count": 51,
   "metadata": {
    "ExecuteTime": {
     "end_time": "2016-09-16T09:55:56.464333",
     "start_time": "2016-09-16T09:55:56.337734"
    },
    "collapsed": false
   },
   "outputs": [],
   "source": [
    "%%execsql\n",
    "SELECT *\n",
    "FROM mdl.sentiment_model;\n",
    "\n",
    "DROP FUNCTION IF EXISTS mdl.apply_sentiment_model(model bytea, tweets text[]);\n",
    "CREATE FUNCTION mdl.apply_sentiment_model(model bytea, tweets text[])\n",
    "RETURNS float8[] AS $$\n",
    "import cPickle\n",
    "import re\n",
    "\n",
    "import pandas as pd\n",
    "from sklearn.feature_extraction.text import CountVectorizer\n",
    "from sklearn.linear_model import LogisticRegression\n",
    "from sklearn.pipeline import Pipeline\n",
    "\n",
    "def regex_preprocess(raw_tweets):\n",
    "    pp_text = pd.Series(raw_tweets)\n",
    "    \n",
    "    user_pat = '(?<=^|(?<=[^a-zA-Z0-9-_\\.]))@([A-Za-z]+[A-Za-z0-9]+)'\n",
    "    http_pat = '(https?:\\/\\/(?:www\\.|(?!www))[^\\s\\.]+\\.[^\\s]{2,}|www\\.[^\\s]+\\.[^\\s]{2,})'\n",
    "    repeat_pat, repeat_repl = \"(.)\\\\1\\\\1+\",'\\\\1\\\\1'\n",
    "\n",
    "    pp_text = pp_text.str.replace(pat = user_pat, repl = 'USERNAME')\n",
    "    pp_text = pp_text.str.replace(pat = http_pat, repl = 'URL')\n",
    "    pp_text.str.replace(pat = repeat_pat, repl = repeat_repl)\n",
    "    return pp_text\n",
    "\n",
    "cl = cPickle.loads(model)\n",
    "X = regex_preprocess(regex_preprocess(tweets))\n",
    "return cl.predict_proba(X)[:,1]\n",
    "$$ LANGUAGE plpythonu;"
   ]
  },
  {
   "cell_type": "code",
   "execution_count": 54,
   "metadata": {
    "ExecuteTime": {
     "end_time": "2016-09-16T11:27:14.958327",
     "start_time": "2016-09-16T11:27:14.344450"
    },
    "collapsed": false
   },
   "outputs": [
    {
     "data": {
      "text/html": [
       "<div>\n",
       "<table border=\"1\" class=\"dataframe\">\n",
       "  <thead>\n",
       "    <tr style=\"text-align: right;\">\n",
       "      <th></th>\n",
       "      <th>tweet</th>\n",
       "      <th>polarity</th>\n",
       "    </tr>\n",
       "  </thead>\n",
       "  <tbody>\n",
       "    <tr>\n",
       "      <th>0</th>\n",
       "      <td>i am so ridiculously happy!!</td>\n",
       "      <td>0.763119</td>\n",
       "    </tr>\n",
       "    <tr>\n",
       "      <th>1</th>\n",
       "      <td>i am very very mad and angry</td>\n",
       "      <td>0.142103</td>\n",
       "    </tr>\n",
       "    <tr>\n",
       "      <th>2</th>\n",
       "      <td>steph curry is a basketball player</td>\n",
       "      <td>0.514518</td>\n",
       "    </tr>\n",
       "  </tbody>\n",
       "</table>\n",
       "</div>"
      ],
      "text/plain": [
       "                                tweet  polarity\n",
       "0        i am so ridiculously happy!!  0.763119\n",
       "1        i am very very mad and angry  0.142103\n",
       "2  steph curry is a basketball player  0.514518"
      ]
     },
     "metadata": {},
     "output_type": "display_data"
    }
   ],
   "source": [
    "%%showsql\n",
    "SELECT unnest(tweets) tweet, unnest(mdl.apply_sentiment_model(model, tweets)) polarity\n",
    "FROM\n",
    "mdl.sentiment_model,\n",
    "(SELECT array['i am so ridiculously happy!!',\n",
    "              'i am very very mad and angry',\n",
    "              'steph curry is a basketball player'] tweets)f"
   ]
  },
  {
   "cell_type": "code",
   "execution_count": 47,
   "metadata": {
    "ExecuteTime": {
     "end_time": "2016-09-15T18:00:19.206611",
     "start_time": "2016-09-15T18:00:18.402493"
    },
    "collapsed": false
   },
   "outputs": [
    {
     "data": {
      "text/html": [
       "<div>\n",
       "<table border=\"1\" class=\"dataframe\">\n",
       "  <thead>\n",
       "    <tr style=\"text-align: right;\">\n",
       "      <th></th>\n",
       "      <th>accuracy</th>\n",
       "    </tr>\n",
       "  </thead>\n",
       "  <tbody>\n",
       "    <tr>\n",
       "      <th>0</th>\n",
       "      <td>0.802228</td>\n",
       "    </tr>\n",
       "  </tbody>\n",
       "</table>\n",
       "</div>"
      ],
      "text/plain": [
       "   accuracy\n",
       "0  0.802228"
      ]
     },
     "metadata": {},
     "output_type": "display_data"
    }
   ],
   "source": [
    "%%showsql\n",
    "\n",
    "--# build table \n",
    "DROP TABLE IF EXISTS mdl.tweets_test_results;\n",
    "CREATE TABLE mdl.tweets_test_results\n",
    "AS\n",
    "SELECT unnest(tweets),\n",
    "       round(unnest(mdl.apply_sentiment_model(model,tweets))) prediction,\n",
    "       unnest(polarities) polarity\n",
    "FROM\n",
    "mdl.sentiment_model,\n",
    "(SELECT array_agg(text) tweets, array_agg(greatest(polarity-3,0)) polarities\n",
    "FROM mdl.tweets_test\n",
    "WHERE polarity != 2 --#neutral tweets\n",
    ")f1;\n",
    "\n",
    "--# check accuracy of model\n",
    "SELECT 1 - AVG(ABS(prediction - polarity)) accuracy\n",
    "FROM mdl.tweets_test_results;"
   ]
  },
  {
   "cell_type": "markdown",
   "metadata": {},
   "source": [
    "## Appendix"
   ]
  },
  {
   "cell_type": "code",
   "execution_count": 28,
   "metadata": {
    "ExecuteTime": {
     "end_time": "2016-09-15T17:37:37.273781",
     "start_time": "2016-09-15T17:37:37.242115"
    },
    "collapsed": false
   },
   "outputs": [
    {
     "data": {
      "text/html": [
       "<div>\n",
       "<table border=\"1\" class=\"dataframe\">\n",
       "  <thead>\n",
       "    <tr style=\"text-align: right;\">\n",
       "      <th></th>\n",
       "      <th>greatest</th>\n",
       "    </tr>\n",
       "  </thead>\n",
       "  <tbody>\n",
       "    <tr>\n",
       "      <th>0</th>\n",
       "      <td>5</td>\n",
       "    </tr>\n",
       "  </tbody>\n",
       "</table>\n",
       "</div>"
      ],
      "text/plain": [
       "   greatest\n",
       "0         5"
      ]
     },
     "metadata": {},
     "output_type": "display_data"
    }
   ],
   "source": [
    "%%showsql\n",
    "SELECT greatest(4-1,5)"
   ]
  },
  {
   "cell_type": "markdown",
   "metadata": {
    "ExecuteTime": {
     "end_time": "2016-09-15T17:23:26.639435",
     "start_time": "2016-09-15T17:23:26.611570"
    }
   },
   "source": [
    "### Load twitter data"
   ]
  },
  {
   "cell_type": "code",
   "execution_count": 18,
   "metadata": {
    "ExecuteTime": {
     "end_time": "2016-09-15T17:24:00.978493",
     "start_time": "2016-09-15T17:24:00.937202"
    },
    "collapsed": true
   },
   "outputs": [
    {
     "ename": "NameError",
     "evalue": "name 'dftrain' is not defined",
     "output_type": "error",
     "traceback": [
      "\u001b[0;31m---------------------------------------------------------------------------\u001b[0m",
      "\u001b[0;31mNameError\u001b[0m                                 Traceback (most recent call last)",
      "\u001b[0;32m<ipython-input-18-97d0f4dabff7>\u001b[0m in \u001b[0;36m<module>\u001b[0;34m()\u001b[0m\n\u001b[0;32m----> 1\u001b[0;31m \u001b[0mdftrain_export\u001b[0m \u001b[0;34m=\u001b[0m \u001b[0mdftrain\u001b[0m\u001b[0;34m.\u001b[0m\u001b[0mcopy\u001b[0m\u001b[0;34m(\u001b[0m\u001b[0;34m)\u001b[0m\u001b[0;34m\u001b[0m\u001b[0m\n\u001b[0m\u001b[1;32m      2\u001b[0m \u001b[0mdftrain_export\u001b[0m \u001b[0;34m=\u001b[0m \u001b[0mdftrain_export\u001b[0m\u001b[0;34m[\u001b[0m\u001b[0;34m[\u001b[0m\u001b[0;34m'polarity'\u001b[0m\u001b[0;34m,\u001b[0m\u001b[0;34m'text'\u001b[0m\u001b[0;34m]\u001b[0m\u001b[0;34m]\u001b[0m\u001b[0;34m\u001b[0m\u001b[0m\n\u001b[1;32m      3\u001b[0m \u001b[0;32mdef\u001b[0m \u001b[0mdf_add_id_train\u001b[0m\u001b[0;34m(\u001b[0m\u001b[0mdf\u001b[0m\u001b[0;34m,\u001b[0m\u001b[0mis_train\u001b[0m\u001b[0;34m)\u001b[0m\u001b[0;34m:\u001b[0m\u001b[0;34m\u001b[0m\u001b[0m\n\u001b[1;32m      4\u001b[0m     \u001b[0mdf\u001b[0m\u001b[0;34m.\u001b[0m\u001b[0minsert\u001b[0m\u001b[0;34m(\u001b[0m\u001b[0;36m0\u001b[0m\u001b[0;34m,\u001b[0m\u001b[0;34m'id'\u001b[0m\u001b[0;34m,\u001b[0m\u001b[0mdf\u001b[0m\u001b[0;34m.\u001b[0m\u001b[0mindex\u001b[0m\u001b[0;34m.\u001b[0m\u001b[0mtolist\u001b[0m\u001b[0;34m(\u001b[0m\u001b[0;34m)\u001b[0m\u001b[0;34m)\u001b[0m\u001b[0;34m\u001b[0m\u001b[0m\n\u001b[1;32m      5\u001b[0m     \u001b[0mdf\u001b[0m\u001b[0;34m.\u001b[0m\u001b[0minsert\u001b[0m\u001b[0;34m(\u001b[0m\u001b[0;36m1\u001b[0m\u001b[0;34m,\u001b[0m\u001b[0;34m'is_train'\u001b[0m\u001b[0;34m,\u001b[0m\u001b[0;34m[\u001b[0m\u001b[0mis_train\u001b[0m\u001b[0;34m]\u001b[0m\u001b[0;34m*\u001b[0m\u001b[0mdf\u001b[0m\u001b[0;34m.\u001b[0m\u001b[0mshape\u001b[0m\u001b[0;34m[\u001b[0m\u001b[0;36m0\u001b[0m\u001b[0;34m]\u001b[0m\u001b[0;34m)\u001b[0m\u001b[0;34m\u001b[0m\u001b[0m\n",
      "\u001b[0;31mNameError\u001b[0m: name 'dftrain' is not defined"
     ]
    }
   ],
   "source": [
    "# data downloaded from http://cs.stanford.edu/people/alecmgo/trainingandtestdata.zip\n",
    "columns = ['polarity', 'tweetid', 'date', 'query_name', 'user', 'text']\n",
    "dftrain = pd.read_csv('stanford-sentiment-twitter-data/training.1600000.processed.noemoticon.csv',\n",
    "                      header = None,\n",
    "                      encoding ='ISO-8859-1')\n",
    "dftest = pd.read_csv('stanford-sentiment-twitter-data/testdata.manual.2009.06.14.csv',\n",
    "                     header = None,\n",
    "                     encoding ='ISO-8859-1')\n",
    "dftrain.columns = columns\n",
    "dftest.columns = columns"
   ]
  },
  {
   "cell_type": "markdown",
   "metadata": {
    "ExecuteTime": {
     "end_time": "2016-09-15T17:23:44.979551",
     "start_time": "2016-09-15T17:23:44.953881"
    }
   },
   "source": [
    "### Upload data to db"
   ]
  },
  {
   "cell_type": "code",
   "execution_count": null,
   "metadata": {
    "collapsed": true
   },
   "outputs": [],
   "source": [
    "def df_add_id_train(df,is_train):\n",
    "    df.insert(0,'id',df.index.tolist())\n",
    "    df.insert(1,'is_train',[is_train]*df.shape[0])\n",
    "    return df\n",
    "\n",
    "# train data\n",
    "dftrain_export = dftrain.copy()\n",
    "dftrain_export = dftrain_export[['polarity','text']]\n",
    "dftrain_export = df_add_id_train(dftrain_export,1)\n",
    "dftrain_export.to_sql('tweets_train', engine, schema='mdl', index = False, if_exists = 'replace', chunksize=10000)\n",
    "\n",
    "# test data\n",
    "dftest_export = dftest.copy()\n",
    "dftest_export = dftest_export[['polarity','text']]\n",
    "dftest_export = df_add_id_train(dftest_export,1)\n",
    "dftest_export.to_sql('tweets_test', engine, schema='mdl', index = False, if_exists = 'replace', chunksize=10000)"
   ]
  }
 ],
 "metadata": {
  "kernelspec": {
   "display_name": "Python 2",
   "language": "python",
   "name": "python2"
  },
  "language_info": {
   "codemirror_mode": {
    "name": "ipython",
    "version": 2
   },
   "file_extension": ".py",
   "mimetype": "text/x-python",
   "name": "python",
   "nbconvert_exporter": "python",
   "pygments_lexer": "ipython2",
   "version": "2.7.12"
  }
 },
 "nbformat": 4,
 "nbformat_minor": 0
}
