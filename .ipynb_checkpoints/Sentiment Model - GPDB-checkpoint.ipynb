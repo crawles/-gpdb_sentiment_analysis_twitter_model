{
 "cells": [
  {
   "cell_type": "code",
   "execution_count": 1,
   "metadata": {
    "ExecuteTime": {
     "end_time": "2016-09-15T15:53:38.469188",
     "start_time": "2016-09-15T15:53:28.366575"
    },
    "collapsed": false
   },
   "outputs": [],
   "source": [
    "from IPython.core.magic import (register_line_magic, register_cell_magic,\n",
    "                                register_line_cell_magic)\n",
    "from IPython.display import display\n",
    "from IPython.display import HTML\n",
    "\n",
    "import cPickle\n",
    "from dateutil import parser\n",
    "from os import listdir\n",
    "from os.path import isfile, join, split\n",
    "\n",
    "import numpy as np\n",
    "import pandas as pd\n",
    "import pandas.io.sql as psql\n",
    "import psycopg2\n",
    "import sklearn\n",
    "from sklearn.ensemble import RandomForestClassifier\n",
    "from sqlalchemy import create_engine\n",
    "\n",
    "import df_to_hawq\n",
    "import params"
   ]
  },
  {
   "cell_type": "code",
   "execution_count": 2,
   "metadata": {
    "ExecuteTime": {
     "end_time": "2016-09-15T15:53:39.127043",
     "start_time": "2016-09-15T15:53:38.470918"
    },
    "collapsed": false
   },
   "outputs": [],
   "source": [
    "conn = psycopg2.connect(database=params.database,\n",
    "                        host=params.host,\n",
    "                        port=params.port,\n",
    "                        user=params.username,\n",
    "                        password=params.password)\n",
    "\n",
    "engine = create_engine('postgresql://{}:{}@{}:{}/{}'.format(params.username,\n",
    "                                                            params.password,\n",
    "                                                            params.host,\n",
    "                                                            params.port,\n",
    "                                                            params.database))\n",
    "conn.autocommit = True"
   ]
  },
  {
   "cell_type": "code",
   "execution_count": 54,
   "metadata": {
    "ExecuteTime": {
     "end_time": "2016-09-15T16:30:41.934245",
     "start_time": "2016-09-15T16:30:41.900476"
    },
    "collapsed": false
   },
   "outputs": [],
   "source": [
    "_df = None\n",
    "@register_cell_magic\n",
    "def showsql(line, cell):\n",
    "    \"\"\"\n",
    "        Extract the code in the specific cell (should be valid SQL), and execute\n",
    "        it using the connection object to the backend database. \n",
    "        The resulting Pandas dataframe\n",
    "        is rendered inline below the cell using IPython.display.\n",
    "        You'd use this for SELECT\n",
    "    \"\"\"\n",
    "    #Use the global connection object defined above.\n",
    "    global conn\n",
    "    global _df\n",
    "    _df = psql.read_sql(cell, conn)\n",
    "    conn.commit()\n",
    "    display(_df)\n",
    "    return\n",
    "    \n",
    "@register_cell_magic\n",
    "def execsql(line, cell):\n",
    "    \"\"\"\n",
    "        Extract the code in the specific cell (should be valid SQL), and execute\n",
    "        it using the connection object to the backend database. \n",
    "        You'd use this for CREATE/UPDATE/DELETE\n",
    "    \"\"\"\n",
    "    #Use the global connection object defined above.\n",
    "    global conn\n",
    "    global _df\n",
    "    _df = psql.execute(cell, conn)\n",
    "    conn.commit()\n",
    "    return\n",
    "\n",
    "# We delete these to avoid name conflicts for automagic to work\n",
    "del execsql, showsql"
   ]
  },
  {
   "cell_type": "code",
   "execution_count": 75,
   "metadata": {
    "ExecuteTime": {
     "end_time": "2016-09-15T16:55:00.213195",
     "start_time": "2016-09-15T16:54:54.515302"
    },
    "collapsed": true
   },
   "outputs": [],
   "source": [
    "columns = ['polarity', 'tweetid', 'date', 'query_name', 'user', 'text']\n",
    "dftrain = pd.read_csv('stanford-sentiment-twitter-data/training.1600000.processed.noemoticon.csv',\n",
    "                      header = None,\n",
    "                      encoding ='ISO-8859-1')\n",
    "dftest = pd.read_csv('stanford-sentiment-twitter-data/testdata.manual.2009.06.14.csv',\n",
    "                     header = None,\n",
    "                     encoding ='ISO-8859-1')\n",
    "dftrain.columns = columns\n",
    "dftest.columns = columns"
   ]
  },
  {
   "cell_type": "markdown",
   "metadata": {},
   "source": [
    "## Load data to GPDB"
   ]
  },
  {
   "cell_type": "code",
   "execution_count": 76,
   "metadata": {
    "ExecuteTime": {
     "end_time": "2016-09-15T16:55:01.440074",
     "start_time": "2016-09-15T16:55:00.933154"
    },
    "collapsed": false
   },
   "outputs": [],
   "source": [
    "dftrain_export = dftrain.copy()\n",
    "dftrain_export = dftrain_export[['polarity','text']]\n",
    "def df_add_id_train(df,is_train):\n",
    "    df.insert(0,'id',df.index.tolist())\n",
    "    df.insert(1,'is_train',[is_train]*df.shape[0])\n",
    "    return df\n",
    "dftrain_export = df_add_id_train(dftrain_export,1)\n",
    "dftrain_export.to_sql('tweets_train', engine, schema='mdl', index = False, if_exists = 'replace', chunksize=10000)"
   ]
  },
  {
   "cell_type": "code",
   "execution_count": 79,
   "metadata": {
    "ExecuteTime": {
     "end_time": "2016-09-15T16:57:13.633062",
     "start_time": "2016-09-15T16:57:12.881250"
    },
    "collapsed": false
   },
   "outputs": [],
   "source": [
    "dftest_export = dftest.copy()\n",
    "dftest_export = dftest_export[['polarity','text']]\n",
    "\n",
    "dftest_export = df_add_id_train(dftest_export,1)\n",
    "dftest_export.to_sql('tweets_test', engine, schema='mdl', index = False, if_exists = 'replace', chunksize=10000)"
   ]
  },
  {
   "cell_type": "markdown",
   "metadata": {},
   "source": [
    "## Build model"
   ]
  },
  {
   "cell_type": "code",
   "execution_count": 73,
   "metadata": {
    "ExecuteTime": {
     "end_time": "2016-09-15T16:53:05.107879",
     "start_time": "2016-09-15T16:37:28.218017"
    },
    "collapsed": false
   },
   "outputs": [],
   "source": [
    "%%execsql\n",
    "\n",
    "DROP FUNCTION IF EXISTS mdl.train_sentiment_model(tweets text[], polarities bigint[]);\n",
    "CREATE FUNCTION mdl.train_sentiment_model(tweets text[], polarities bigint[])\n",
    "RETURNS bytea AS $$\n",
    "import cPickle\n",
    "import re\n",
    "\n",
    "import pandas as pd\n",
    "from sklearn.feature_extraction.text import CountVectorizer\n",
    "from sklearn.linear_model import LogisticRegression\n",
    "from sklearn.pipeline import Pipeline\n",
    "\n",
    "def regex_preprocess(raw_tweets):\n",
    "    pp_text = pd.Series(raw_tweets)\n",
    "    \n",
    "    user_pat = '(?<=^|(?<=[^a-zA-Z0-9-_\\.]))@([A-Za-z]+[A-Za-z0-9]+)'\n",
    "    http_pat = '(https?:\\/\\/(?:www\\.|(?!www))[^\\s\\.]+\\.[^\\s]{2,}|www\\.[^\\s]+\\.[^\\s]{2,})'\n",
    "    repeat_pat, repeat_repl = \"(.)\\\\1\\\\1+\",'\\\\1\\\\1'\n",
    "\n",
    "    pp_text = pp_text.str.replace(pat = user_pat, repl = 'USERNAME')\n",
    "    pp_text = pp_text.str.replace(pat = http_pat, repl = 'URL')\n",
    "    pp_text.str.replace(pat = repeat_pat, repl = repeat_repl)\n",
    "    return pp_text\n",
    "    \n",
    "sentiment_lr = Pipeline([('count_vect', CountVectorizer(min_df = 100,\n",
    "                                                        ngram_range = (1,1),\n",
    "                                                        stop_words = 'english')), \n",
    "                         ('lr', LogisticRegression())])\n",
    "\n",
    "X = regex_preprocess(tweets)\n",
    "sentiment_lr.fit(X, polarities)\n",
    "return cPickle.dumps(sentiment_lr)\n",
    "$$ LANGUAGE plpythonu;\n",
    "\n",
    "DROP TABLE IF EXISTS mdl.sentiment_model;\n",
    "CREATE TABLE mdl.sentiment_model AS\n",
    "SELECT mdl.train_sentiment_model(array_agg(text),array_agg(polarity)) model\n",
    "FROM \n",
    "(SELECT *\n",
    "FROM mdl.tweets_train\n",
    "ORDER BY RANDOM()\n",
    "LIMIT 500000)f;"
   ]
  },
  {
   "cell_type": "code",
   "execution_count": 81,
   "metadata": {
    "ExecuteTime": {
     "end_time": "2016-09-15T16:58:24.878924",
     "start_time": "2016-09-15T16:58:23.663551"
    },
    "collapsed": false
   },
   "outputs": [
    {
     "data": {
      "text/html": [
       "<div>\n",
       "<table border=\"1\" class=\"dataframe\">\n",
       "  <thead>\n",
       "    <tr style=\"text-align: right;\">\n",
       "      <th></th>\n",
       "      <th>tweets</th>\n",
       "      <th>apply_sentiment_model1</th>\n",
       "    </tr>\n",
       "  </thead>\n",
       "  <tbody>\n",
       "    <tr>\n",
       "      <th>0</th>\n",
       "      <td>[@PaulaAbdul awww, Good luck Paula!! Please do...</td>\n",
       "      <td>[0.794733582756, 0.662022955273, 0.33613410672...</td>\n",
       "    </tr>\n",
       "  </tbody>\n",
       "</table>\n",
       "</div>"
      ],
      "text/plain": [
       "                                              tweets  \\\n",
       "0  [@PaulaAbdul awww, Good luck Paula!! Please do...   \n",
       "\n",
       "                              apply_sentiment_model1  \n",
       "0  [0.794733582756, 0.662022955273, 0.33613410672...  "
      ]
     },
     "metadata": {},
     "output_type": "display_data"
    }
   ],
   "source": [
    "%%showsql\n",
    "SELECT *\n",
    "FROM mdl.sentiment_model;\n",
    "\n",
    "DROP FUNCTION IF EXISTS mdl.apply_sentiment_model(model bytea, tweets text[]);\n",
    "CREATE FUNCTION mdl.apply_sentiment_model(model bytea, tweets text[])\n",
    "RETURNS float8[] AS $$\n",
    "import cPickle\n",
    "import re\n",
    "\n",
    "import dill\n",
    "import pandas as pd\n",
    "from sklearn.feature_extraction.text import CountVectorizer\n",
    "from sklearn.linear_model import LogisticRegression\n",
    "from sklearn.pipeline import Pipeline\n",
    "\n",
    "def regex_preprocess(raw_tweets):\n",
    "    pp_text = pd.Series(raw_tweets)\n",
    "    \n",
    "    user_pat = '(?<=^|(?<=[^a-zA-Z0-9-_\\.]))@([A-Za-z]+[A-Za-z0-9]+)'\n",
    "    http_pat = '(https?:\\/\\/(?:www\\.|(?!www))[^\\s\\.]+\\.[^\\s]{2,}|www\\.[^\\s]+\\.[^\\s]{2,})'\n",
    "    repeat_pat, repeat_repl = \"(.)\\\\1\\\\1+\",'\\\\1\\\\1'\n",
    "\n",
    "    pp_text = pp_text.str.replace(pat = user_pat, repl = 'USERNAME')\n",
    "    pp_text = pp_text.str.replace(pat = http_pat, repl = 'URL')\n",
    "    pp_text.str.replace(pat = repeat_pat, repl = repeat_repl)\n",
    "    return pp_text\n",
    "\n",
    "cl = cPickle.loads(model)\n",
    "X = regex_preprocess(tweets)\n",
    "return cl.predict_proba(X)[:,1]\n",
    "$$ LANGUAGE plpythonu;\n",
    "\n",
    "SELECT tweets,mdl.apply_sentiment_model1(model,tweets)\n",
    "FROM\n",
    "    mdl.sentiment_model,\n",
    "    (SELECT array_agg(text) tweets\n",
    "    FROM\n",
    "        (SELECT *\n",
    "        FROM mdl.tweets_train\n",
    "        WHERE random()<.0065\n",
    "        LIMIT 10000\n",
    "        )f\n",
    "    )f1;"
   ]
  },
  {
   "cell_type": "markdown",
   "metadata": {},
   "source": [
    "## Try model in Python 2.7"
   ]
  },
  {
   "cell_type": "code",
   "execution_count": 85,
   "metadata": {
    "ExecuteTime": {
     "end_time": "2016-09-15T17:02:24.997397",
     "start_time": "2016-09-15T17:02:24.862801"
    },
    "collapsed": false
   },
   "outputs": [
    {
     "data": {
      "text/html": [
       "<div>\n",
       "<table border=\"1\" class=\"dataframe\">\n",
       "  <thead>\n",
       "    <tr style=\"text-align: right;\">\n",
       "      <th></th>\n",
       "      <th>model</th>\n",
       "    </tr>\n",
       "  </thead>\n",
       "  <tbody>\n",
       "    <tr>\n",
       "      <th>0</th>\n",
       "      <td>[c, c, o, p, y, _, r, e, g, \\n, _, r, e, c, o,...</td>\n",
       "    </tr>\n",
       "  </tbody>\n",
       "</table>\n",
       "</div>"
      ],
      "text/plain": [
       "                                               model\n",
       "0  [c, c, o, p, y, _, r, e, g, \\n, _, r, e, c, o,..."
      ]
     },
     "metadata": {},
     "output_type": "display_data"
    }
   ],
   "source": [
    "%%showsql\n",
    "SELECT model\n",
    "FROM mdl.sentiment_model"
   ]
  },
  {
   "cell_type": "code",
   "execution_count": 88,
   "metadata": {
    "ExecuteTime": {
     "end_time": "2016-09-15T17:03:11.108024",
     "start_time": "2016-09-15T17:03:11.077192"
    },
    "collapsed": true
   },
   "outputs": [],
   "source": [
    "def regex_preprocess(raw_tweets):\n",
    "    pp_text = pd.Series(raw_tweets)\n",
    "    \n",
    "    user_pat = '(?<=^|(?<=[^a-zA-Z0-9-_\\.]))@([A-Za-z]+[A-Za-z0-9]+)'\n",
    "    http_pat = '(https?:\\/\\/(?:www\\.|(?!www))[^\\s\\.]+\\.[^\\s]{2,}|www\\.[^\\s]+\\.[^\\s]{2,})'\n",
    "    repeat_pat, repeat_repl = \"(.)\\\\1\\\\1+\",'\\\\1\\\\1'\n",
    "\n",
    "    pp_text = pp_text.str.replace(pat = user_pat, repl = 'USERNAME')\n",
    "    pp_text = pp_text.str.replace(pat = http_pat, repl = 'URL')\n",
    "    pp_text.str.replace(pat = repeat_pat, repl = repeat_repl)\n",
    "    return pp_text"
   ]
  },
  {
   "cell_type": "code",
   "execution_count": 86,
   "metadata": {
    "ExecuteTime": {
     "end_time": "2016-09-15T17:02:26.291202",
     "start_time": "2016-09-15T17:02:25.853858"
    },
    "collapsed": false
   },
   "outputs": [],
   "source": [
    "import cPickle\n",
    "f = open('twitter_sentiment_model.pkl', 'wb')\n",
    "cl = cPickle.loads(str(_df.model[0]))\n",
    "cPickle.dump(cl,f)\n",
    "f.close()"
   ]
  },
  {
   "cell_type": "code",
   "execution_count": 96,
   "metadata": {
    "ExecuteTime": {
     "end_time": "2016-09-15T17:10:52.922455",
     "start_time": "2016-09-15T17:10:52.759899"
    },
    "collapsed": false
   },
   "outputs": [
    {
     "name": "stdout",
     "output_type": "stream",
     "text": [
      "/Users/crawles/Desktop/rsa/gpdb_sentiment_analysis_twitter_model\r\n"
     ]
    }
   ],
   "source": [
    "!pwd"
   ]
  },
  {
   "cell_type": "code",
   "execution_count": 97,
   "metadata": {
    "ExecuteTime": {
     "end_time": "2016-09-15T17:10:56.850736",
     "start_time": "2016-09-15T17:10:56.401064"
    },
    "collapsed": false
   },
   "outputs": [
    {
     "data": {
      "text/plain": [
       "array([[ 0.17627355,  0.82372645],\n",
       "       [ 0.48548214,  0.51451786],\n",
       "       [ 0.85789702,  0.14210298],\n",
       "       [ 0.17362405,  0.82637595]])"
      ]
     },
     "execution_count": 97,
     "metadata": {},
     "output_type": "execute_result"
    }
   ],
   "source": [
    "f = open('twitter_sentiment_model2.pkl', 'rb')\n",
    "cl = cPickle.load(f)\n",
    "f.close()\n",
    "cl.predict_proba(regex_preprocess(['This app is awesome and in the CLOUD',\n",
    "                                             'steph curry is a basketball player',\n",
    "                                             'i am so mad and angry',\n",
    "                                             'hello world']))"
   ]
  },
  {
   "cell_type": "code",
   "execution_count": 41,
   "metadata": {
    "ExecuteTime": {
     "end_time": "2016-09-15T16:02:16.982108",
     "start_time": "2016-09-15T16:02:16.946354"
    },
    "collapsed": false
   },
   "outputs": [
    {
     "data": {
      "text/plain": [
       "0    steph curry is a basketball player\n",
       "dtype: object"
      ]
     },
     "execution_count": 41,
     "metadata": {},
     "output_type": "execute_result"
    }
   ],
   "source": [
    "sentence = 'steph curry is a basketball player'\n",
    "def regex_preprocess(raw_tweets):\n",
    "    pp_text = pd.Series(raw_tweets)\n",
    "    \n",
    "    user_pat = '(?<=^|(?<=[^a-zA-Z0-9-_\\.]))@([A-Za-z]+[A-Za-z0-9]+)'\n",
    "    http_pat = '(https?:\\/\\/(?:www\\.|(?!www))[^\\s\\.]+\\.[^\\s]{2,}|www\\.[^\\s]+\\.[^\\s]{2,})'\n",
    "    repeat_pat, repeat_repl = \"(.)\\\\1\\\\1+\",'\\\\1\\\\1'\n",
    "\n",
    "    pp_text = pp_text.str.replace(pat = user_pat, repl = 'USERNAME')\n",
    "    pp_text = pp_text.str.replace(pat = http_pat, repl = 'URL')\n",
    "    pp_text.str.replace(pat = repeat_pat, repl = repeat_repl)\n",
    "    return pp_text\n",
    "\n"
   ]
  },
  {
   "cell_type": "code",
   "execution_count": 44,
   "metadata": {
    "ExecuteTime": {
     "end_time": "2016-09-15T16:02:49.616988",
     "start_time": "2016-09-15T16:02:49.585271"
    },
    "collapsed": false
   },
   "outputs": [
    {
     "data": {
      "text/plain": [
       "array([[ 0.52978211,  0.47021789],\n",
       "       [ 0.52978211,  0.47021789]])"
      ]
     },
     "execution_count": 44,
     "metadata": {},
     "output_type": "execute_result"
    }
   ],
   "source": [
    "cl.predict_proba(regex_preprocess(['hello','world']))"
   ]
  }
 ],
 "metadata": {
  "kernelspec": {
   "display_name": "Python 2",
   "language": "python",
   "name": "python2"
  },
  "language_info": {
   "codemirror_mode": {
    "name": "ipython",
    "version": 2
   },
   "file_extension": ".py",
   "mimetype": "text/x-python",
   "name": "python",
   "nbconvert_exporter": "python",
   "pygments_lexer": "ipython2",
   "version": "2.7.12"
  }
 },
 "nbformat": 4,
 "nbformat_minor": 0
}
